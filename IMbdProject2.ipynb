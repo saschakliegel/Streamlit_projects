{
 "cells": [
  {
   "cell_type": "markdown",
   "metadata": {
    "id": "0CwxTfr2N9np"
   },
   "source": [
    "###Collaborative Filtering with K Nearest neighbors.\n",
    "\n",
    "This filtering is defined by finding products liked by \"similar\" users. The Nearest neighbor algorithms uses ratings of the \"most similar\" users. \n"
   ]
  },
  {
   "cell_type": "markdown",
   "metadata": {
    "id": "Q5KjFsRz3Yx9"
   },
   "source": [
    "Let's start with loading the data first. What do we know about Pandas? Try to remember how we read a csv. Using that, upload a new .csv as given. "
   ]
  },
  {
   "cell_type": "markdown",
   "metadata": {},
   "source": [
    "**IMPORT LIBRARIES**"
   ]
  },
  {
   "cell_type": "code",
   "execution_count": 100,
   "metadata": {},
   "outputs": [],
   "source": [
    "%matplotlib inline\n",
    "import pandas as pd\n",
    "import numpy as np\n",
    "import matplotlib.pyplot as plt\n",
    "from scipy import misc\n",
    "from scipy.spatial.distance import hamming\n",
    "import seaborn as sns\n",
    "from scipy import stats\n",
    "from ast import literal_eval\n",
    "from sklearn.feature_extraction.text import TfidfVectorizer, CountVectorizer\n",
    "from sklearn.metrics.pairwise import linear_kernel, cosine_similarity\n",
    "from nltk.stem.snowball import SnowballStemmer\n",
    "from nltk.stem.wordnet import WordNetLemmatizer\n",
    "from nltk.corpus import wordnet\n",
    "from surprise import SVD\n",
    "from surprise import Dataset\n",
    "from surprise.model_selection import cross_validate\n",
    "import warnings; warnings.simplefilter('ignore')"
   ]
  },
  {
   "cell_type": "markdown",
   "metadata": {},
   "source": [
    "**Import the Data metadata.csv**"
   ]
  },
  {
   "cell_type": "code",
   "execution_count": 101,
   "metadata": {
    "cellView": "both",
    "executionInfo": {
     "elapsed": 30928,
     "status": "ok",
     "timestamp": 1615472990283,
     "user": {
      "displayName": "Jyoti Gupta",
      "photoUrl": "https://lh3.googleusercontent.com/a-/AOh14Gha7ARiuH9KYsBrRe_sEPEhpI5cXr55TdQBv6x_MA=s64",
      "userId": "16785426337890807929"
     },
     "user_tz": -480
    },
    "id": "aAMrXIQbw78M"
   },
   "outputs": [],
   "source": [
    "dataFile='/Users/Sergiokl1/Google Drive/Colab Notebooks/Github/02RecommendationSystems/01CollaborativeFilteringRS/data/archive-5/movies_metadata.csv'\n",
    "meta=pd.read_csv(dataFile)\n"
   ]
  },
  {
   "cell_type": "code",
   "execution_count": 102,
   "metadata": {},
   "outputs": [],
   "source": [
    "meta['genres'] = meta['genres'].fillna('[]').apply(literal_eval).apply(lambda x: [i['name'] for i in x] if isinstance(x, list) else [])\n",
    "meta['spoken_languages'] = meta['spoken_languages'].fillna('[]').apply(literal_eval).apply(lambda x: [i['name'] for i in x] if isinstance(x, list) else [])\n",
    "meta['production_countries'] = meta['production_countries'].fillna('[]').apply(literal_eval).apply(lambda x: [i['name'] for i in x] if isinstance(x, list) else [])"
   ]
  },
  {
   "cell_type": "code",
   "execution_count": 103,
   "metadata": {},
   "outputs": [],
   "source": [
    "meta_cleaned = meta.copy()"
   ]
  },
  {
   "cell_type": "markdown",
   "metadata": {},
   "source": [
    "Display the contents of the genres column:"
   ]
  },
  {
   "cell_type": "code",
   "execution_count": 104,
   "metadata": {},
   "outputs": [],
   "source": [
    "lst = []\n",
    "for i in meta['genres']:\n",
    "    \n",
    "    lst.append(\" \".join(i))\n",
    "str1 = ''\n",
    "for i in lst:\n",
    "    str1+= i\n",
    "    str1 += \" \"\n",
    "\n",
    "lst3 = str1.split()\n",
    "lst2 = []\n",
    "for i in lst3:\n",
    "    if i not in lst2:\n",
    "        lst2.append(i)\n",
    "    else:\n",
    "        continue\n",
    "\n",
    "\n",
    "\n"
   ]
  },
  {
   "cell_type": "markdown",
   "metadata": {},
   "source": [
    "Built a new DataFrame new_md by dropping unecessary columns"
   ]
  },
  {
   "cell_type": "code",
   "execution_count": 105,
   "metadata": {},
   "outputs": [],
   "source": [
    "meta = meta.drop(columns = [\"belongs_to_collection\" , \"budget\" ,\"homepage\" , \"overview\" , \"poster_path\", \"production_companies\", \n",
    "                            \"release_date\" , \"revenue\" ,\"status\", \"tagline\", \"title\", \"video\",'original_title', 'imdb_id',\"spoken_languages\", 'production_countries'] )"
   ]
  },
  {
   "cell_type": "code",
   "execution_count": 106,
   "metadata": {},
   "outputs": [
    {
     "data": {
      "text/html": "<div>\n<style scoped>\n    .dataframe tbody tr th:only-of-type {\n        vertical-align: middle;\n    }\n\n    .dataframe tbody tr th {\n        vertical-align: top;\n    }\n\n    .dataframe thead th {\n        text-align: right;\n    }\n</style>\n<table border=\"1\" class=\"dataframe\">\n  <thead>\n    <tr style=\"text-align: right;\">\n      <th></th>\n      <th>adult</th>\n      <th>genres</th>\n      <th>id</th>\n      <th>original_language</th>\n      <th>popularity</th>\n      <th>runtime</th>\n      <th>vote_average</th>\n      <th>vote_count</th>\n    </tr>\n  </thead>\n  <tbody>\n  </tbody>\n</table>\n</div>",
      "text/plain": "Empty DataFrame\nColumns: [adult, genres, id, original_language, popularity, runtime, vote_average, vote_count]\nIndex: []"
     },
     "execution_count": 106,
     "metadata": {},
     "output_type": "execute_result"
    }
   ],
   "source": [
    "meta[(meta['adult'] == False) & (meta['adult'] == True)]"
   ]
  },
  {
   "cell_type": "code",
   "execution_count": 107,
   "metadata": {},
   "outputs": [],
   "source": [
    "meta = meta.drop([19730, 29503, 35587])"
   ]
  },
  {
   "cell_type": "code",
   "execution_count": 108,
   "metadata": {},
   "outputs": [],
   "source": [
    "meta[meta['original_language'].map(type) != str]\n",
    "meta['original_language'] = meta['original_language'].fillna('')"
   ]
  },
  {
   "cell_type": "code",
   "execution_count": 109,
   "metadata": {},
   "outputs": [],
   "source": [
    "def to_list(x):\n",
    "    l = []\n",
    "    l.append(x)\n",
    "    return l\n",
    "meta['original_language'] = meta['original_language'].apply(to_list)"
   ]
  },
  {
   "cell_type": "code",
   "execution_count": 110,
   "metadata": {},
   "outputs": [],
   "source": [
    "from sklearn.preprocessing import MultiLabelBinarizer\n",
    "\n",
    "mlb = MultiLabelBinarizer()\n",
    "mlb.fit(meta['original_language'])\n",
    "\n",
    "# transform target variable\n",
    "f = mlb.transform(meta['original_language'])\n",
    "labels = mlb.classes_\n",
    "temp1 = pd.DataFrame(f, columns=labels)\n"
   ]
  },
  {
   "cell_type": "code",
   "execution_count": 111,
   "metadata": {},
   "outputs": [],
   "source": [
    "from sklearn.preprocessing import MultiLabelBinarizer\n",
    "\n",
    "mlb = MultiLabelBinarizer()\n",
    "mlb.fit(meta['genres'])\n",
    "\n",
    "# transform target variable\n",
    "y = mlb.transform(meta['genres'])\n",
    "labels = mlb.classes_\n",
    "temp = pd.DataFrame(y, columns=labels)\n"
   ]
  },
  {
   "cell_type": "code",
   "execution_count": 1,
   "metadata": {},
   "outputs": [
    {
     "ename": "NameError",
     "evalue": "name 'meta' is not defined",
     "output_type": "error",
     "traceback": [
      "\u001b[0;31m---------------------------------------------------------------------------\u001b[0m",
      "\u001b[0;31mNameError\u001b[0m                                 Traceback (most recent call last)",
      "\u001b[0;32m<ipython-input-1-a49730879e3b>\u001b[0m in \u001b[0;36m<module>\u001b[0;34m\u001b[0m\n\u001b[1;32m      1\u001b[0m \u001b[0;31m## merge the two df\u001b[0m\u001b[0;34m\u001b[0m\u001b[0;34m\u001b[0m\u001b[0;34m\u001b[0m\u001b[0m\n\u001b[0;32m----> 2\u001b[0;31m \u001b[0mmeta\u001b[0m \u001b[0;34m=\u001b[0m \u001b[0mmeta\u001b[0m\u001b[0;34m.\u001b[0m\u001b[0mmerge\u001b[0m\u001b[0;34m(\u001b[0m\u001b[0mtemp\u001b[0m \u001b[0;34m,\u001b[0m \u001b[0mleft_index\u001b[0m\u001b[0;34m=\u001b[0m \u001b[0;32mTrue\u001b[0m \u001b[0;34m,\u001b[0m \u001b[0mright_index\u001b[0m\u001b[0;34m=\u001b[0m \u001b[0;32mTrue\u001b[0m\u001b[0;34m,\u001b[0m \u001b[0mhow\u001b[0m\u001b[0;34m=\u001b[0m\u001b[0;34m\"left\"\u001b[0m\u001b[0;34m)\u001b[0m\u001b[0;34m\u001b[0m\u001b[0;34m\u001b[0m\u001b[0m\n\u001b[0m\u001b[1;32m      3\u001b[0m \u001b[0;31m# Fav10.merge(Genre, on=\"movie__id\", how=\"left\")\u001b[0m\u001b[0;34m\u001b[0m\u001b[0;34m\u001b[0m\u001b[0;34m\u001b[0m\u001b[0m\n\u001b[1;32m      4\u001b[0m \u001b[0;34m\u001b[0m\u001b[0m\n\u001b[1;32m      5\u001b[0m \u001b[0mmeta\u001b[0m\u001b[0;34m.\u001b[0m\u001b[0mdrop\u001b[0m\u001b[0;34m(\u001b[0m\u001b[0mcolumns\u001b[0m\u001b[0;34m=\u001b[0m \u001b[0;34m[\u001b[0m\u001b[0;34m'genres'\u001b[0m\u001b[0;34m]\u001b[0m\u001b[0;34m,\u001b[0m \u001b[0minplace\u001b[0m \u001b[0;34m=\u001b[0m \u001b[0;32mTrue\u001b[0m\u001b[0;34m)\u001b[0m\u001b[0;34m\u001b[0m\u001b[0;34m\u001b[0m\u001b[0m\n",
      "\u001b[0;31mNameError\u001b[0m: name 'meta' is not defined"
     ]
    }
   ],
   "source": [
    "## merge the two df\n",
    "meta = meta.merge(temp , left_index= True , right_index= True, how=\"left\")\n",
    "# Fav10.merge(Genre, on=\"movie__id\", how=\"left\")\n",
    "\n",
    "meta.drop(columns= ['genres'], inplace = True)\n",
    "meta = meta.dropna()\n"
   ]
  },
  {
   "cell_type": "code",
   "execution_count": 113,
   "metadata": {},
   "outputs": [],
   "source": [
    "meta = meta.merge(temp1 , left_index= True , right_index= True, how=\"left\")\n",
    "meta.rename(columns={'id_x': 'id'}, inplace=True)\n"
   ]
  },
  {
   "cell_type": "code",
   "execution_count": 2,
   "metadata": {},
   "outputs": [
    {
     "ename": "NameError",
     "evalue": "name 'meta' is not defined",
     "output_type": "error",
     "traceback": [
      "\u001b[0;31m---------------------------------------------------------------------------\u001b[0m",
      "\u001b[0;31mNameError\u001b[0m                                 Traceback (most recent call last)",
      "\u001b[0;32m<ipython-input-2-1757a0ba1fdd>\u001b[0m in \u001b[0;36m<module>\u001b[0;34m\u001b[0m\n\u001b[0;32m----> 1\u001b[0;31m \u001b[0mmeta\u001b[0m\u001b[0;34m.\u001b[0m\u001b[0mdrop\u001b[0m\u001b[0;34m(\u001b[0m\u001b[0mcolumns\u001b[0m\u001b[0;34m=\u001b[0m \u001b[0;34m[\u001b[0m\u001b[0;34m'original_language'\u001b[0m\u001b[0;34m]\u001b[0m\u001b[0;34m,\u001b[0m \u001b[0minplace\u001b[0m \u001b[0;34m=\u001b[0m \u001b[0;32mTrue\u001b[0m\u001b[0;34m)\u001b[0m\u001b[0;34m\u001b[0m\u001b[0;34m\u001b[0m\u001b[0m\n\u001b[0m",
      "\u001b[0;31mNameError\u001b[0m: name 'meta' is not defined"
     ]
    }
   ],
   "source": [
    "meta.drop(columns= ['original_language'], inplace = True)\n"
   ]
  },
  {
   "cell_type": "code",
   "execution_count": 115,
   "metadata": {},
   "outputs": [
    {
     "data": {
      "text/plain": "adult           0\nid              0\npopularity      0\nruntime         0\nvote_average    0\n               ..\nvi              0\nwo              0\nxx              0\nzh              0\nzu              0\nLength: 116, dtype: int64"
     },
     "execution_count": 115,
     "metadata": {},
     "output_type": "execute_result"
    }
   ],
   "source": [
    "scaled_features = meta.copy()\n",
    "scaled_features.isna().sum()\n"
   ]
  },
  {
   "cell_type": "code",
   "execution_count": 116,
   "metadata": {},
   "outputs": [],
   "source": [
    "from sklearn.preprocessing import MinMaxScaler\n",
    "col_names = ['popularity', 'runtime', 'vote_average', 'vote_count']\n",
    "\n",
    "\n",
    "features = scaled_features[col_names]\n",
    "scaler = MinMaxScaler().fit(features.values)\n",
    "features = scaler.transform(features.values)\n",
    "scaled_features[col_names] = features\n",
    "\n"
   ]
  },
  {
   "cell_type": "code",
   "execution_count": 117,
   "metadata": {},
   "outputs": [],
   "source": [
    "meta = scaled_features\n",
    "\n"
   ]
  },
  {
   "cell_type": "code",
   "execution_count": 118,
   "metadata": {},
   "outputs": [],
   "source": [
    "\n",
    "def movie_recommender(distance_method, id, N):\n",
    "    df_distance = pd.DataFrame(data=meta['id'])\n",
    "    md_ver5 = meta.drop_duplicates(subset=\"id\", keep=\"first\")\n",
    "    md_ver5 = md_ver5.set_index('id')\n",
    "    df_distance = df_distance[df_distance['id'] != str(id)]\n",
    "    try:\n",
    "        df_distance['distance'] = df_distance['id'].apply(lambda x: distance_method(np.array(md_ver5.loc[x]),np.array(md_ver5.loc[str(id)])))\n",
    "    except:\n",
    "        df_distance['distance'] = df_distance['id'].apply(lambda x: distance_method(np.array(md_ver5.loc[x].iloc[0]),np.array(md_ver5.loc[str(id)])))\n",
    "    df_distance.sort_values(by='distance', inplace=True)\n",
    "   \n",
    "    return df_distance.head(N)"
   ]
  },
  {
   "cell_type": "code",
   "execution_count": 119,
   "metadata": {},
   "outputs": [],
   "source": [
    "rec = movie_recommender(hamming,9273,3)"
   ]
  },
  {
   "cell_type": "code",
   "execution_count": 120,
   "metadata": {},
   "outputs": [
    {
     "data": {
      "text/plain": "['5052', '13532', '9750']"
     },
     "execution_count": 120,
     "metadata": {},
     "output_type": "execute_result"
    }
   ],
   "source": [
    "l1 = rec['id'].to_list()\n",
    "\n"
   ]
  },
  {
   "cell_type": "code",
   "execution_count": 122,
   "metadata": {},
   "outputs": [
    {
     "name": "stdout",
     "output_type": "stream",
     "text": [
      "Title:   Topkapi  Release Date:   1964-09-02 \n",
      " Genre:  Adventure Comedy Crime \n",
      "Title:   Fanboys  Release Date:   2009-02-06 \n",
      " Genre:  Adventure Comedy \n",
      "Title:   Balls of Fury  Release Date:   2007-08-29 \n",
      " Genre:  Comedy Crime \n"
     ]
    }
   ],
   "source": [
    "for i in l1:\n",
    "    # index = int(index)\n",
    "    idx = meta_cleaned[meta_cleaned['id']==str(i)]\n",
    "    # print(idx)\n",
    "    title = idx[\"original_title\"].to_string(index=False)\n",
    "    date = idx[\"release_date\"].to_string(index=False)\n",
    "    genre = [e for f in idx[\"genres\"].to_list() for e in f]\n",
    "    genre_toprint = ''\n",
    "    for item in genre:\n",
    "        genre_toprint += item + ' '\n",
    "    print(\"Title: \", title ,  \" Release Date: \", date, \"\\n\",\"Genre: \", genre_toprint)"
   ]
  },
  {
   "cell_type": "code",
   "execution_count": 10,
   "metadata": {},
   "outputs": [
    {
     "data": {
      "text/plain": "('Title: ',\n ' Fanboys',\n ' Release Date: ',\n ' 2009-02-06',\n 'Genre: ',\n 'Adventure Comedy ',\n 'Title: ',\n ' Topkapi',\n ' Release Date: ',\n ' 1964-09-02',\n 'Genre: ',\n 'Adventure Comedy Crime ',\n 'Title: ',\n ' The Art of the Steal',\n ' Release Date: ',\n ' 2013-09-11',\n 'Genre: ',\n 'Comedy Crime ')"
     },
     "execution_count": 10,
     "metadata": {},
     "output_type": "execute_result"
    }
   ],
   "source": [
    "import pandas as pd\n",
    "import numpy as np\n",
    "import matplotlib.pyplot as plt\n",
    "from scipy import misc\n",
    "from scipy.spatial.distance import hamming\n",
    "import seaborn as sns\n",
    "from scipy import stats\n",
    "from ast import literal_eval\n",
    "from sklearn.feature_extraction.text import TfidfVectorizer, CountVectorizer\n",
    "from sklearn.metrics.pairwise import linear_kernel, cosine_similarity\n",
    "from nltk.stem.snowball import SnowballStemmer\n",
    "from nltk.stem.wordnet import WordNetLemmatizer\n",
    "from nltk.corpus import wordnet\n",
    "# from surprise import SVD\n",
    "# from surprise import Dataset\n",
    "# from surprise.model_selection import cross_validate\n",
    "import warnings; warnings.simplefilter('ignore')\n",
    "\n",
    "\n",
    "\n",
    "def content_based_model(): \n",
    "    dataFile='/Users/Sergiokl1/Google Drive/Colab Notebooks/Github/02RecommendationSystems/01CollaborativeFilteringRS/data/archive-5/movies_metadata.csv'\n",
    "    meta=pd.read_csv(dataFile)\n",
    "\n",
    "    meta['genres'] = meta['genres'].fillna('[]').apply(literal_eval).apply(lambda x: [i['name'] for i in x] if isinstance(x, list) else [])\n",
    "    meta['spoken_languages'] = meta['spoken_languages'].fillna('[]').apply(literal_eval).apply(lambda x: [i['name'] for i in x] if isinstance(x, list) else [])\n",
    "    meta['production_countries'] = meta['production_countries'].fillna('[]').apply(literal_eval).apply(lambda x: [i['name'] for i in x] if isinstance(x, list) else [])\n",
    "\n",
    "    meta_cleaned = meta.copy()\n",
    "\n",
    "    lst = []\n",
    "    for i in meta['genres']:\n",
    "        \n",
    "        lst.append(\" \".join(i))\n",
    "    str1 = ''\n",
    "    for i in lst:\n",
    "        str1+= i\n",
    "        str1 += \" \"\n",
    "\n",
    "    lst3 = str1.split()\n",
    "    lst2 = []\n",
    "    for i in lst3:\n",
    "        if i not in lst2:\n",
    "            lst2.append(i)\n",
    "        else:\n",
    "            continue\n",
    "\n",
    "    meta = meta.drop(columns = [\"belongs_to_collection\" , \"budget\" ,\"homepage\" , \"overview\" , \"poster_path\", \"production_companies\", \n",
    "                                \"release_date\" , \"revenue\" ,\"status\", \"tagline\", \"title\", \"video\",'original_title', 'imdb_id',\"spoken_languages\", 'production_countries'] )\n",
    "\n",
    "    meta[(meta['adult'] == False) & (meta['adult'] == True)]\n",
    "\n",
    "    meta[meta['original_language'].map(type) != str]\n",
    "    meta['original_language'] = meta['original_language'].fillna('')\n",
    "\n",
    "    def to_list(x):\n",
    "        l = []\n",
    "        l.append(x)\n",
    "        return l\n",
    "    meta['original_language'] = meta['original_language'].apply(to_list)\n",
    "\n",
    "    from sklearn.preprocessing import MultiLabelBinarizer\n",
    "\n",
    "    mlb = MultiLabelBinarizer()\n",
    "    mlb.fit(meta['original_language'])\n",
    "\n",
    "    f = mlb.transform(meta['original_language'])\n",
    "    labels = mlb.classes_\n",
    "    temp1 = pd.DataFrame(f, columns=labels)\n",
    "\n",
    "    mlb = MultiLabelBinarizer()\n",
    "    mlb.fit(meta['genres'])\n",
    "    y = mlb.transform(meta['genres'])\n",
    "    labels = mlb.classes_\n",
    "    temp = pd.DataFrame(y, columns=labels)\n",
    "\n",
    "    ## merge the two df\n",
    "    meta = meta.merge(temp , left_index= True , right_index= True, how=\"left\")\n",
    "    # Fav10.merge(Genre, on=\"movie__id\", how=\"left\")\n",
    "\n",
    "    meta.drop(columns= ['genres'], inplace = True)\n",
    "    meta = meta.dropna()\n",
    "\n",
    "    meta = meta.merge(temp1 , left_index= True , right_index= True, how=\"left\")\n",
    "    meta.rename(columns={'id_x': 'id'}, inplace=True)\n",
    "    meta.drop(columns= ['original_language'], inplace = True)\n",
    "\n",
    "    scaled_features = meta.copy()\n",
    "    scaled_features.isna().sum()\n",
    "\n",
    "    from sklearn.preprocessing import MinMaxScaler\n",
    "    col_names = ['popularity', 'runtime', 'vote_average', 'vote_count']\n",
    "\n",
    "\n",
    "    features = scaled_features[col_names]\n",
    "    scaler = MinMaxScaler().fit(features.values)\n",
    "    features = scaler.transform(features.values)\n",
    "    scaled_features[col_names] = features\n",
    "    meta = scaled_features \n",
    "    \n",
    "    return meta , meta_cleaned\n",
    "\n",
    "def movie_recommender(distance_method, id, N):\n",
    "    meta, meta_cleaned= content_based_model()\n",
    "    df_distance = pd.DataFrame(data=meta['id'])\n",
    "    md_ver5 = meta.drop_duplicates(subset=\"id\", keep=\"first\")\n",
    "    md_ver5 = md_ver5.set_index('id')\n",
    "    df_distance = df_distance[df_distance['id'] != str(id)]\n",
    "    try:\n",
    "        df_distance['distance'] = df_distance['id'].apply(lambda x: distance_method(np.array(md_ver5.loc[x]),np.array(md_ver5.loc[str(id)])))\n",
    "    except:\n",
    "        df_distance['distance'] = df_distance['id'].apply(lambda x: distance_method(np.array(md_ver5.loc[x].iloc[0]),np.array(md_ver5.loc[str(id)])))\n",
    "    df_distance.sort_values(by='distance', inplace=True)\n",
    "   \n",
    "    rec = df_distance.head(N)\n",
    "\n",
    "    l1 = rec['id'].to_list()\n",
    "    recom = ()\n",
    "    for i in l1:\n",
    "        # index = int(index)\n",
    "        idx = meta_cleaned[meta_cleaned['id']==str(i)]\n",
    "        # print(idx)\n",
    "        title = idx[\"original_title\"].to_string(index=False)\n",
    "        date = idx[\"release_date\"].to_string(index=False)\n",
    "        genre = [e for f in idx[\"genres\"].to_list() for e in f]\n",
    "        genre_toprint = ''\n",
    "        for item in genre:\n",
    "            genre_toprint += item + ' '\n",
    "        recom += \"Title: \", title ,  \" Release Date: \", date, \"Genre: \", genre_toprint\n",
    "    return recom\n",
    "movie_recommender(hamming,9273,3)\n",
    "\n",
    "# l1 = rec['id'].to_list()\n",
    "\n",
    "# for i in l1:\n",
    "#     # index = int(index)\n",
    "#     idx = meta_cleaned[meta_cleaned['id']==str(i)]\n",
    "#     # print(idx)\n",
    "#     title = idx[\"original_title\"].to_string(index=False)\n",
    "#     date = idx[\"release_date\"].to_string(index=False)\n",
    "#     genre = [e for f in idx[\"genres\"].to_list() for e in f]\n",
    "#     genre_toprint = ''\n",
    "#     for item in genre:\n",
    "#         genre_toprint += item + ' '\n",
    "#     print(\"Title: \", title ,  \" Release Date: \", date, \"\\n\",\"Genre: \", genre_toprint)\n"
   ]
  },
  {
   "cell_type": "code",
   "execution_count": 22,
   "metadata": {},
   "outputs": [
    {
     "data": {
      "text/html": "<div>\n<style scoped>\n    .dataframe tbody tr th:only-of-type {\n        vertical-align: middle;\n    }\n\n    .dataframe tbody tr th {\n        vertical-align: top;\n    }\n\n    .dataframe thead th {\n        text-align: right;\n    }\n</style>\n<table border=\"1\" class=\"dataframe\">\n  <thead>\n    <tr style=\"text-align: right;\">\n      <th></th>\n      <th>adult</th>\n      <th>belongs_to_collection</th>\n      <th>budget</th>\n      <th>genres</th>\n      <th>homepage</th>\n      <th>id</th>\n      <th>imdb_id</th>\n      <th>original_language</th>\n      <th>original_title</th>\n      <th>overview</th>\n      <th>...</th>\n      <th>release_date</th>\n      <th>revenue</th>\n      <th>runtime</th>\n      <th>spoken_languages</th>\n      <th>status</th>\n      <th>tagline</th>\n      <th>title</th>\n      <th>video</th>\n      <th>vote_average</th>\n      <th>vote_count</th>\n    </tr>\n  </thead>\n  <tbody>\n    <tr>\n      <th>0</th>\n      <td>False</td>\n      <td>{'id': 10194, 'name': 'Toy Story Collection', ...</td>\n      <td>30000000</td>\n      <td>[Animation, Comedy, Family]</td>\n      <td>http://toystory.disney.com/toy-story</td>\n      <td>862</td>\n      <td>tt0114709</td>\n      <td>en</td>\n      <td>Toy Story</td>\n      <td>Led by Woody, Andy's toys live happily in his ...</td>\n      <td>...</td>\n      <td>1995-10-30</td>\n      <td>373554033.0</td>\n      <td>81.0</td>\n      <td>[English]</td>\n      <td>Released</td>\n      <td>NaN</td>\n      <td>Toy Story</td>\n      <td>False</td>\n      <td>7.7</td>\n      <td>5415.0</td>\n    </tr>\n    <tr>\n      <th>1</th>\n      <td>False</td>\n      <td>NaN</td>\n      <td>65000000</td>\n      <td>[Adventure, Fantasy, Family]</td>\n      <td>NaN</td>\n      <td>8844</td>\n      <td>tt0113497</td>\n      <td>en</td>\n      <td>Jumanji</td>\n      <td>When siblings Judy and Peter discover an encha...</td>\n      <td>...</td>\n      <td>1995-12-15</td>\n      <td>262797249.0</td>\n      <td>104.0</td>\n      <td>[English, Français]</td>\n      <td>Released</td>\n      <td>Roll the dice and unleash the excitement!</td>\n      <td>Jumanji</td>\n      <td>False</td>\n      <td>6.9</td>\n      <td>2413.0</td>\n    </tr>\n    <tr>\n      <th>2</th>\n      <td>False</td>\n      <td>{'id': 119050, 'name': 'Grumpy Old Men Collect...</td>\n      <td>0</td>\n      <td>[Romance, Comedy]</td>\n      <td>NaN</td>\n      <td>15602</td>\n      <td>tt0113228</td>\n      <td>en</td>\n      <td>Grumpier Old Men</td>\n      <td>A family wedding reignites the ancient feud be...</td>\n      <td>...</td>\n      <td>1995-12-22</td>\n      <td>0.0</td>\n      <td>101.0</td>\n      <td>[English]</td>\n      <td>Released</td>\n      <td>Still Yelling. Still Fighting. Still Ready for...</td>\n      <td>Grumpier Old Men</td>\n      <td>False</td>\n      <td>6.5</td>\n      <td>92.0</td>\n    </tr>\n    <tr>\n      <th>3</th>\n      <td>False</td>\n      <td>NaN</td>\n      <td>16000000</td>\n      <td>[Comedy, Drama, Romance]</td>\n      <td>NaN</td>\n      <td>31357</td>\n      <td>tt0114885</td>\n      <td>en</td>\n      <td>Waiting to Exhale</td>\n      <td>Cheated on, mistreated and stepped on, the wom...</td>\n      <td>...</td>\n      <td>1995-12-22</td>\n      <td>81452156.0</td>\n      <td>127.0</td>\n      <td>[English]</td>\n      <td>Released</td>\n      <td>Friends are the people who let you be yourself...</td>\n      <td>Waiting to Exhale</td>\n      <td>False</td>\n      <td>6.1</td>\n      <td>34.0</td>\n    </tr>\n    <tr>\n      <th>4</th>\n      <td>False</td>\n      <td>{'id': 96871, 'name': 'Father of the Bride Col...</td>\n      <td>0</td>\n      <td>[Comedy]</td>\n      <td>NaN</td>\n      <td>11862</td>\n      <td>tt0113041</td>\n      <td>en</td>\n      <td>Father of the Bride Part II</td>\n      <td>Just when George Banks has recovered from his ...</td>\n      <td>...</td>\n      <td>1995-02-10</td>\n      <td>76578911.0</td>\n      <td>106.0</td>\n      <td>[English]</td>\n      <td>Released</td>\n      <td>Just When His World Is Back To Normal... He's ...</td>\n      <td>Father of the Bride Part II</td>\n      <td>False</td>\n      <td>5.7</td>\n      <td>173.0</td>\n    </tr>\n    <tr>\n      <th>...</th>\n      <td>...</td>\n      <td>...</td>\n      <td>...</td>\n      <td>...</td>\n      <td>...</td>\n      <td>...</td>\n      <td>...</td>\n      <td>...</td>\n      <td>...</td>\n      <td>...</td>\n      <td>...</td>\n      <td>...</td>\n      <td>...</td>\n      <td>...</td>\n      <td>...</td>\n      <td>...</td>\n      <td>...</td>\n      <td>...</td>\n      <td>...</td>\n      <td>...</td>\n      <td>...</td>\n    </tr>\n    <tr>\n      <th>45461</th>\n      <td>False</td>\n      <td>NaN</td>\n      <td>0</td>\n      <td>[Drama, Family]</td>\n      <td>http://www.imdb.com/title/tt6209470/</td>\n      <td>439050</td>\n      <td>tt6209470</td>\n      <td>fa</td>\n      <td>رگ خواب</td>\n      <td>Rising and falling between a man and woman.</td>\n      <td>...</td>\n      <td>NaN</td>\n      <td>0.0</td>\n      <td>90.0</td>\n      <td>[فارسی]</td>\n      <td>Released</td>\n      <td>Rising and falling between a man and woman</td>\n      <td>Subdue</td>\n      <td>False</td>\n      <td>4.0</td>\n      <td>1.0</td>\n    </tr>\n    <tr>\n      <th>45462</th>\n      <td>False</td>\n      <td>NaN</td>\n      <td>0</td>\n      <td>[Drama]</td>\n      <td>NaN</td>\n      <td>111109</td>\n      <td>tt2028550</td>\n      <td>tl</td>\n      <td>Siglo ng Pagluluwal</td>\n      <td>An artist struggles to finish his work while a...</td>\n      <td>...</td>\n      <td>2011-11-17</td>\n      <td>0.0</td>\n      <td>360.0</td>\n      <td>[]</td>\n      <td>Released</td>\n      <td>NaN</td>\n      <td>Century of Birthing</td>\n      <td>False</td>\n      <td>9.0</td>\n      <td>3.0</td>\n    </tr>\n    <tr>\n      <th>45463</th>\n      <td>False</td>\n      <td>NaN</td>\n      <td>0</td>\n      <td>[Action, Drama, Thriller]</td>\n      <td>NaN</td>\n      <td>67758</td>\n      <td>tt0303758</td>\n      <td>en</td>\n      <td>Betrayal</td>\n      <td>When one of her hits goes wrong, a professiona...</td>\n      <td>...</td>\n      <td>2003-08-01</td>\n      <td>0.0</td>\n      <td>90.0</td>\n      <td>[English]</td>\n      <td>Released</td>\n      <td>A deadly game of wits.</td>\n      <td>Betrayal</td>\n      <td>False</td>\n      <td>3.8</td>\n      <td>6.0</td>\n    </tr>\n    <tr>\n      <th>45464</th>\n      <td>False</td>\n      <td>NaN</td>\n      <td>0</td>\n      <td>[]</td>\n      <td>NaN</td>\n      <td>227506</td>\n      <td>tt0008536</td>\n      <td>en</td>\n      <td>Satana likuyushchiy</td>\n      <td>In a small town live two brothers, one a minis...</td>\n      <td>...</td>\n      <td>1917-10-21</td>\n      <td>0.0</td>\n      <td>87.0</td>\n      <td>[]</td>\n      <td>Released</td>\n      <td>NaN</td>\n      <td>Satan Triumphant</td>\n      <td>False</td>\n      <td>0.0</td>\n      <td>0.0</td>\n    </tr>\n    <tr>\n      <th>45465</th>\n      <td>False</td>\n      <td>NaN</td>\n      <td>0</td>\n      <td>[]</td>\n      <td>NaN</td>\n      <td>461257</td>\n      <td>tt6980792</td>\n      <td>en</td>\n      <td>Queerama</td>\n      <td>50 years after decriminalisation of homosexual...</td>\n      <td>...</td>\n      <td>2017-06-09</td>\n      <td>0.0</td>\n      <td>75.0</td>\n      <td>[English]</td>\n      <td>Released</td>\n      <td>NaN</td>\n      <td>Queerama</td>\n      <td>False</td>\n      <td>0.0</td>\n      <td>0.0</td>\n    </tr>\n  </tbody>\n</table>\n<p>45466 rows × 24 columns</p>\n</div>",
      "text/plain": "       adult                              belongs_to_collection    budget  \\\n0      False  {'id': 10194, 'name': 'Toy Story Collection', ...  30000000   \n1      False                                                NaN  65000000   \n2      False  {'id': 119050, 'name': 'Grumpy Old Men Collect...         0   \n3      False                                                NaN  16000000   \n4      False  {'id': 96871, 'name': 'Father of the Bride Col...         0   \n...      ...                                                ...       ...   \n45461  False                                                NaN         0   \n45462  False                                                NaN         0   \n45463  False                                                NaN         0   \n45464  False                                                NaN         0   \n45465  False                                                NaN         0   \n\n                             genres                              homepage  \\\n0       [Animation, Comedy, Family]  http://toystory.disney.com/toy-story   \n1      [Adventure, Fantasy, Family]                                   NaN   \n2                 [Romance, Comedy]                                   NaN   \n3          [Comedy, Drama, Romance]                                   NaN   \n4                          [Comedy]                                   NaN   \n...                             ...                                   ...   \n45461               [Drama, Family]  http://www.imdb.com/title/tt6209470/   \n45462                       [Drama]                                   NaN   \n45463     [Action, Drama, Thriller]                                   NaN   \n45464                            []                                   NaN   \n45465                            []                                   NaN   \n\n           id    imdb_id original_language               original_title  \\\n0         862  tt0114709                en                    Toy Story   \n1        8844  tt0113497                en                      Jumanji   \n2       15602  tt0113228                en             Grumpier Old Men   \n3       31357  tt0114885                en            Waiting to Exhale   \n4       11862  tt0113041                en  Father of the Bride Part II   \n...       ...        ...               ...                          ...   \n45461  439050  tt6209470                fa                      رگ خواب   \n45462  111109  tt2028550                tl          Siglo ng Pagluluwal   \n45463   67758  tt0303758                en                     Betrayal   \n45464  227506  tt0008536                en          Satana likuyushchiy   \n45465  461257  tt6980792                en                     Queerama   \n\n                                                overview  ... release_date  \\\n0      Led by Woody, Andy's toys live happily in his ...  ...   1995-10-30   \n1      When siblings Judy and Peter discover an encha...  ...   1995-12-15   \n2      A family wedding reignites the ancient feud be...  ...   1995-12-22   \n3      Cheated on, mistreated and stepped on, the wom...  ...   1995-12-22   \n4      Just when George Banks has recovered from his ...  ...   1995-02-10   \n...                                                  ...  ...          ...   \n45461        Rising and falling between a man and woman.  ...          NaN   \n45462  An artist struggles to finish his work while a...  ...   2011-11-17   \n45463  When one of her hits goes wrong, a professiona...  ...   2003-08-01   \n45464  In a small town live two brothers, one a minis...  ...   1917-10-21   \n45465  50 years after decriminalisation of homosexual...  ...   2017-06-09   \n\n           revenue runtime     spoken_languages    status  \\\n0      373554033.0    81.0            [English]  Released   \n1      262797249.0   104.0  [English, Français]  Released   \n2              0.0   101.0            [English]  Released   \n3       81452156.0   127.0            [English]  Released   \n4       76578911.0   106.0            [English]  Released   \n...            ...     ...                  ...       ...   \n45461          0.0    90.0              [فارسی]  Released   \n45462          0.0   360.0                   []  Released   \n45463          0.0    90.0            [English]  Released   \n45464          0.0    87.0                   []  Released   \n45465          0.0    75.0            [English]  Released   \n\n                                                 tagline  \\\n0                                                    NaN   \n1              Roll the dice and unleash the excitement!   \n2      Still Yelling. Still Fighting. Still Ready for...   \n3      Friends are the people who let you be yourself...   \n4      Just When His World Is Back To Normal... He's ...   \n...                                                  ...   \n45461         Rising and falling between a man and woman   \n45462                                                NaN   \n45463                             A deadly game of wits.   \n45464                                                NaN   \n45465                                                NaN   \n\n                             title  video vote_average vote_count  \n0                        Toy Story  False          7.7     5415.0  \n1                          Jumanji  False          6.9     2413.0  \n2                 Grumpier Old Men  False          6.5       92.0  \n3                Waiting to Exhale  False          6.1       34.0  \n4      Father of the Bride Part II  False          5.7      173.0  \n...                            ...    ...          ...        ...  \n45461                       Subdue  False          4.0        1.0  \n45462          Century of Birthing  False          9.0        3.0  \n45463                     Betrayal  False          3.8        6.0  \n45464             Satan Triumphant  False          0.0        0.0  \n45465                     Queerama  False          0.0        0.0  \n\n[45466 rows x 24 columns]"
     },
     "execution_count": 22,
     "metadata": {},
     "output_type": "execute_result"
    }
   ],
   "source": [
    "meta , meta_cleaned= content_based_model()\n",
    "meta_cleaned"
   ]
  },
  {
   "cell_type": "code",
   "execution_count": 16,
   "metadata": {},
   "outputs": [
    {
     "ename": "TypeError",
     "evalue": "'DataFrame' object is not callable",
     "output_type": "error",
     "traceback": [
      "\u001b[0;31m---------------------------------------------------------------------------\u001b[0m",
      "\u001b[0;31mTypeError\u001b[0m                                 Traceback (most recent call last)",
      "\u001b[0;32m<ipython-input-16-8e815e85995b>\u001b[0m in \u001b[0;36m<module>\u001b[0;34m\u001b[0m\n\u001b[1;32m      1\u001b[0m \u001b[0mmeta\u001b[0m\u001b[0;34m.\u001b[0m\u001b[0mto_csv\u001b[0m\u001b[0;34m(\u001b[0m\u001b[0;34m'meta.csv'\u001b[0m\u001b[0;34m)\u001b[0m\u001b[0;34m\u001b[0m\u001b[0;34m\u001b[0m\u001b[0m\n\u001b[0;32m----> 2\u001b[0;31m \u001b[0mmeta_cleaned\u001b[0m\u001b[0;34m(\u001b[0m\u001b[0;34m'meta_cleaned.csv'\u001b[0m\u001b[0;34m)\u001b[0m\u001b[0;34m\u001b[0m\u001b[0;34m\u001b[0m\u001b[0m\n\u001b[0m",
      "\u001b[0;31mTypeError\u001b[0m: 'DataFrame' object is not callable"
     ]
    }
   ],
   "source": [
    "meta.to_csv('meta.csv')\n"
   ]
  },
  {
   "cell_type": "code",
   "execution_count": 23,
   "metadata": {},
   "outputs": [],
   "source": [
    "meta_cleaned.to_csv('meta_cleaned.csv')"
   ]
  },
  {
   "cell_type": "code",
   "execution_count": 20,
   "metadata": {},
   "outputs": [
    {
     "data": {
      "text/plain": "0           862\n1          8844\n2         15602\n3         31357\n4         11862\n          ...  \n45198    439050\n45199    111109\n45200     67758\n45201    227506\n45202    461257\nName: id, Length: 45203, dtype: int64"
     },
     "execution_count": 20,
     "metadata": {},
     "output_type": "execute_result"
    }
   ],
   "source": [
    "meta = pd.read_csv('/Users/Sergiokl1/Downloads/Streamlit_projects/meta.csv', header = 0)\n",
    "meta['id']"
   ]
  },
  {
   "cell_type": "code",
   "execution_count": null,
   "metadata": {},
   "outputs": [],
   "source": []
  }
 ],
 "metadata": {
  "colab": {
   "collapsed_sections": [],
   "name": "InclassCollaborativeFilteringRS.ipynb",
   "provenance": [],
   "toc_visible": true
  },
  "kernelspec": {
   "display_name": "Python 3",
   "language": "python",
   "name": "python3"
  },
  "language_info": {
   "codemirror_mode": {
    "name": "ipython",
    "version": 3
   },
   "file_extension": ".py",
   "mimetype": "text/x-python",
   "name": "python",
   "nbconvert_exporter": "python",
   "pygments_lexer": "ipython3",
   "version": "3.8.5"
  }
 },
 "nbformat": 4,
 "nbformat_minor": 1
}